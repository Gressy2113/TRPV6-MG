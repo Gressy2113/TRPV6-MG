{
 "cells": [
  {
   "cell_type": "code",
   "execution_count": 1,
   "id": "49c09bad",
   "metadata": {},
   "outputs": [
    {
     "name": "stdout",
     "output_type": "stream",
     "text": [
      "The history saving thread hit an unexpected error (DatabaseError('database disk image is malformed')).History will not be written to the database.\n"
     ]
    }
   ],
   "source": [
    "import numpy as np\n",
    "import matplotlib.pyplot as plt\n",
    "import pandas as pd\n",
    "import matplotlib\n",
    "matplotlib.rcParams.update({'font.size': 12})\n",
    "import sys "
   ]
  },
  {
   "cell_type": "code",
   "execution_count": null,
   "id": "61d0bcbf",
   "metadata": {},
   "outputs": [],
   "source": [
    "DT=50\n",
    "FOLDER = 'PS/MD_FREE'\n",
    "\n",
    "RESI = [489, 580]\n",
    "\n",
    "CH1 = {489: None, 580: None}\n",
    "CH2 = {489: None, 580: None}\n",
    "\n",
    "CH1[f\"489_{sys}\"] = pd.read_csv(f'{FOLDER}/DIHEDRAL/ch1_{489}_gp t_0--1 dt_{DT}.csv', \n",
    "                    header = None, names = ['t', 'ch'])\n",
    "CH1[f\"580_{sys}\"] = pd.read_csv(f'{FOLDER}/DIHEDRAL/ch1_{580}_gp t_0--1 dt_{DT}.csv', \n",
    "                    header = None, names = ['t', 'ch'])\n",
    "\n",
    "CH2[f\"489_{sys}\"] = pd.read_csv(f'{FOLDER}/DIHEDRAL/ch2_{489}_gp t_0--1 dt_{DT}.csv', \n",
    "                    header = None, names = ['t', 'ch'])\n",
    "CH2[f\"580_{sys}\"] = pd.read_csv(f'{FOLDER}/DIHEDRAL/ch2_{580}_gp t_0--1 dt_{DT}.csv', \n",
    "                    header = None, names = ['t', 'ch'])\n",
    "\n",
    "fig1, ax1 = plt.subplots()\n",
    "fig2, ax2 = plt.subplots()\n",
    "\n",
    "ax1.plot(CH1[f'489_{sys}']['ch'], CH2[f'489_{sys}']['ch'], '.', markersize=5, \n",
    "            markeredgecolor = 'k', \n",
    "            markeredgewidth=0.2,\n",
    "            label = FOLDER.split('/')[1],\n",
    "            color = 'grey', \n",
    "            rasterized = True\n",
    "            )\n",
    "\n",
    "ax2.plot(CH1[f'580_{sys}']['ch'], CH2[f'580_{sys}']['ch'], '.', markersize=5, \n",
    "            markeredgecolor = 'k', \n",
    "            markeredgewidth=0.2,\n",
    "            label = FOLDER.split('/')[1],\n",
    "            color = 'grey', \n",
    "            rasterized = True\n",
    "            )\n",
    "\n",
    "for ax in [ax1, ax2]:\n",
    "    ax.set_xticks(np.arange(-180, 181, 45))\n",
    "    ax.set_xlim(-180, 180)\n",
    "    ax.set_ylim(-180, 180)\n",
    "    ax.grid()\n",
    "    ax.legend(loc = 'upper right')\n",
    "    ax.set_xlabel('χ1, ∘')\n",
    "    ax.set_ylabel('χ2, ∘')\n",
    "    ax.set_aspect('equal', 'box')\n",
    "    ax.set_xticks([-150, -100, -50, 0, 50, 100, 150])\n",
    "    ax.set_yticks([-150, -100, -50, 0, 50, 100, 150])\n",
    "\n",
    "\n",
    "ax1.set_title('D489')\n",
    "ax2.set_title('D580')\n",
    "fig1.savefig(f'IMAGES/Dihedral_MD_free_489.svg', bbox_inches = 'tight', dpi=300)\n",
    "fig2.savefig(f'IMAGES/Dihedral_MD_free_580.svg', bbox_inches = 'tight', dpi=300)"
   ]
  },
  {
   "cell_type": "code",
   "execution_count": null,
   "id": "be54d0da",
   "metadata": {},
   "outputs": [
    {
     "name": "stdout",
     "output_type": "stream",
     "text": [
      "[NbConvertApp] Converting notebook Dihedral_MDfree.ipynb to notebook\n",
      "[NbConvertApp] Writing 189524 bytes to NOTEBOOKS/Dihedral_MDfree.ipynb\n",
      "[NbConvertApp] Converting notebook Dihedral_MDfree.ipynb to html\n",
      "[NbConvertApp] WARNING | Alternative text is missing on 2 image(s).\n",
      "[NbConvertApp] Writing 471857 bytes to NOTEBOOKS/Dihedral_MDfree.html\n"
     ]
    }
   ],
   "source": [
    "! jupyter nbconvert --to notebook Dihedral_MDfree.ipynb --output NOTEBOOKS/Dihedral_MDfree\n",
    "! jupyter nbconvert --to html Dihedral_MDfree.ipynb --output NOTEBOOKS/Dihedral_MDfree"
   ]
  }
 ],
 "metadata": {
  "kernelspec": {
   "display_name": "plumed",
   "language": "python",
   "name": "python3"
  },
  "language_info": {
   "codemirror_mode": {
    "name": "ipython",
    "version": 3
   },
   "file_extension": ".py",
   "mimetype": "text/x-python",
   "name": "python",
   "nbconvert_exporter": "python",
   "pygments_lexer": "ipython3",
   "version": "3.12.7"
  }
 },
 "nbformat": 4,
 "nbformat_minor": 5
}
